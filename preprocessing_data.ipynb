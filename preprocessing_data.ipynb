{
 "cells": [
  {
   "cell_type": "code",
   "execution_count": 1,
   "metadata": {},
   "outputs": [],
   "source": [
    "import pickle\n",
    "\n",
    "import pandas as pd\n",
    "import numpy as np\n",
    "\n",
    "from sklearn.preprocessing import OneHotEncoder, StandardScaler\n",
    "from sklearn.model_selection import train_test_split\n",
    "\n",
    "final_data = '/Users/pranav/nfl_betting_system/final_data.json'"
   ]
  },
  {
   "cell_type": "code",
   "execution_count": 2,
   "metadata": {},
   "outputs": [],
   "source": [
    "df = pd.read_json(final_data)"
   ]
  },
  {
   "cell_type": "code",
   "execution_count": 3,
   "metadata": {},
   "outputs": [
    {
     "data": {
      "text/plain": [
       "Index(['score_home', 'score_away', 'spread_favorite', 'point_diff',\n",
       "       'spread_covered', 'over_under_line', 'total_points',\n",
       "       'over_under_result', 'home_team_fav', 'home_win%', 'home_team_ppg',\n",
       "       'home_team_oppg', 'home_p_diff', 'away_win%', 'away_team_ppg',\n",
       "       'away_team_oppg', 'away_p_diff', 'home_win_exp', 'away_win_exp'],\n",
       "      dtype='object')"
      ]
     },
     "execution_count": 3,
     "metadata": {},
     "output_type": "execute_result"
    }
   ],
   "source": [
    "df.columns"
   ]
  },
  {
   "cell_type": "markdown",
   "metadata": {},
   "source": [
    "### divide our current dataframe into two: one concerned with the Over/Under Line and the other concerned with the Spread\n",
    "\n",
    "1) the Over/Under Line only cares about whether the teams combined points exceed the mark set by the bookkeepers, so who wins is actually irrelevant\n",
    "\n",
    "- our O/U dataframe will house statistics related to point totals: ppg, oppg, final score, O/U line and result for home/away\n",
    "\n",
    "2) the spread however, cares about the point differential AND the winner\n",
    "\n",
    "- our spread dataframe will house statistics related to point differential: spread, average point diff, ppg, oppg, win %, and pythagorean expected win % for each team"
   ]
  },
  {
   "cell_type": "code",
   "execution_count": 4,
   "metadata": {},
   "outputs": [],
   "source": [
    "df_ou = df[['home_team_ppg', 'home_team_oppg', 'away_team_ppg', 'away_team_oppg', 'over_under_line', 'total_points']]\n",
    "df_spread = df[['score_home', 'score_away', 'spread_favorite', 'spread_covered', \n",
    "                'home_team_fav', 'home_win%', 'home_team_ppg', 'home_team_oppg', \n",
    "                'home_p_diff', 'away_win%', 'away_team_ppg', 'away_team_oppg', \n",
    "                'away_p_diff', 'home_win_exp', 'away_win_exp', 'point_diff']]"
   ]
  },
  {
   "cell_type": "code",
   "execution_count": 5,
   "metadata": {},
   "outputs": [
    {
     "data": {
      "text/html": [
       "<div>\n",
       "<style scoped>\n",
       "    .dataframe tbody tr th:only-of-type {\n",
       "        vertical-align: middle;\n",
       "    }\n",
       "\n",
       "    .dataframe tbody tr th {\n",
       "        vertical-align: top;\n",
       "    }\n",
       "\n",
       "    .dataframe thead th {\n",
       "        text-align: right;\n",
       "    }\n",
       "</style>\n",
       "<table border=\"1\" class=\"dataframe\">\n",
       "  <thead>\n",
       "    <tr style=\"text-align: right;\">\n",
       "      <th></th>\n",
       "      <th>home_team_ppg</th>\n",
       "      <th>home_team_oppg</th>\n",
       "      <th>away_team_ppg</th>\n",
       "      <th>away_team_oppg</th>\n",
       "      <th>over_under_line</th>\n",
       "      <th>total_points</th>\n",
       "    </tr>\n",
       "  </thead>\n",
       "  <tbody>\n",
       "    <tr>\n",
       "      <th>0</th>\n",
       "      <td>16.00</td>\n",
       "      <td>21.00</td>\n",
       "      <td>14.00</td>\n",
       "      <td>41.00</td>\n",
       "      <td>38.5</td>\n",
       "      <td>63</td>\n",
       "    </tr>\n",
       "    <tr>\n",
       "      <th>1</th>\n",
       "      <td>16.00</td>\n",
       "      <td>0.00</td>\n",
       "      <td>27.00</td>\n",
       "      <td>7.00</td>\n",
       "      <td>36.5</td>\n",
       "      <td>75</td>\n",
       "    </tr>\n",
       "    <tr>\n",
       "      <th>2</th>\n",
       "      <td>16.00</td>\n",
       "      <td>13.00</td>\n",
       "      <td>16.00</td>\n",
       "      <td>20.00</td>\n",
       "      <td>38.5</td>\n",
       "      <td>45</td>\n",
       "    </tr>\n",
       "    <tr>\n",
       "      <th>3</th>\n",
       "      <td>36.00</td>\n",
       "      <td>41.00</td>\n",
       "      <td>36.00</td>\n",
       "      <td>28.00</td>\n",
       "      <td>47.0</td>\n",
       "      <td>56</td>\n",
       "    </tr>\n",
       "    <tr>\n",
       "      <th>4</th>\n",
       "      <td>14.00</td>\n",
       "      <td>10.00</td>\n",
       "      <td>20.00</td>\n",
       "      <td>17.00</td>\n",
       "      <td>43.0</td>\n",
       "      <td>25</td>\n",
       "    </tr>\n",
       "    <tr>\n",
       "      <th>...</th>\n",
       "      <td>...</td>\n",
       "      <td>...</td>\n",
       "      <td>...</td>\n",
       "      <td>...</td>\n",
       "      <td>...</td>\n",
       "      <td>...</td>\n",
       "    </tr>\n",
       "    <tr>\n",
       "      <th>4778</th>\n",
       "      <td>25.87</td>\n",
       "      <td>18.80</td>\n",
       "      <td>17.27</td>\n",
       "      <td>18.60</td>\n",
       "      <td>36.0</td>\n",
       "      <td>40</td>\n",
       "    </tr>\n",
       "    <tr>\n",
       "      <th>4779</th>\n",
       "      <td>26.40</td>\n",
       "      <td>13.20</td>\n",
       "      <td>18.60</td>\n",
       "      <td>31.33</td>\n",
       "      <td>45.5</td>\n",
       "      <td>51</td>\n",
       "    </tr>\n",
       "    <tr>\n",
       "      <th>4780</th>\n",
       "      <td>21.60</td>\n",
       "      <td>27.80</td>\n",
       "      <td>23.40</td>\n",
       "      <td>22.47</td>\n",
       "      <td>44.5</td>\n",
       "      <td>51</td>\n",
       "    </tr>\n",
       "    <tr>\n",
       "      <th>4781</th>\n",
       "      <td>25.60</td>\n",
       "      <td>24.80</td>\n",
       "      <td>30.20</td>\n",
       "      <td>19.27</td>\n",
       "      <td>47.0</td>\n",
       "      <td>47</td>\n",
       "    </tr>\n",
       "    <tr>\n",
       "      <th>4782</th>\n",
       "      <td>29.07</td>\n",
       "      <td>28.07</td>\n",
       "      <td>23.53</td>\n",
       "      <td>25.13</td>\n",
       "      <td>48.5</td>\n",
       "      <td>50</td>\n",
       "    </tr>\n",
       "  </tbody>\n",
       "</table>\n",
       "<p>4783 rows × 6 columns</p>\n",
       "</div>"
      ],
      "text/plain": [
       "      home_team_ppg  home_team_oppg  away_team_ppg  away_team_oppg  \\\n",
       "0             16.00           21.00          14.00           41.00   \n",
       "1             16.00            0.00          27.00            7.00   \n",
       "2             16.00           13.00          16.00           20.00   \n",
       "3             36.00           41.00          36.00           28.00   \n",
       "4             14.00           10.00          20.00           17.00   \n",
       "...             ...             ...            ...             ...   \n",
       "4778          25.87           18.80          17.27           18.60   \n",
       "4779          26.40           13.20          18.60           31.33   \n",
       "4780          21.60           27.80          23.40           22.47   \n",
       "4781          25.60           24.80          30.20           19.27   \n",
       "4782          29.07           28.07          23.53           25.13   \n",
       "\n",
       "      over_under_line  total_points  \n",
       "0                38.5            63  \n",
       "1                36.5            75  \n",
       "2                38.5            45  \n",
       "3                47.0            56  \n",
       "4                43.0            25  \n",
       "...               ...           ...  \n",
       "4778             36.0            40  \n",
       "4779             45.5            51  \n",
       "4780             44.5            51  \n",
       "4781             47.0            47  \n",
       "4782             48.5            50  \n",
       "\n",
       "[4783 rows x 6 columns]"
      ]
     },
     "execution_count": 5,
     "metadata": {},
     "output_type": "execute_result"
    }
   ],
   "source": [
    "df_ou"
   ]
  },
  {
   "cell_type": "code",
   "execution_count": 10,
   "metadata": {},
   "outputs": [],
   "source": [
    "def load_dataset(path):\n",
    "    df = pd.read_json(path)\n",
    "    df_ou = df[['home_team_ppg', 'home_team_oppg', 'away_team_ppg', 'away_team_oppg', 'over_under_line']]\n",
    "    df_ou['total_points'] = df['score_home']+df['score_away']\n",
    "    df_spread = df[['score_home', 'score_away', 'spread_favorite', 'spread_covered', \n",
    "                    'home_team_fav', 'home_win%', 'home_team_ppg', 'home_team_oppg', \n",
    "                    'home_p_diff', 'away_win%', 'away_team_ppg', 'away_team_oppg', \n",
    "                    'away_p_diff', 'home_win_exp', 'away_win_exp']]\n",
    "    dataset1 = df_ou.values\n",
    "    X = dataset1[:, :-1]\n",
    "    y = dataset1[:,-1]\n",
    "    \n",
    "    y = y.reshape((len(y), 1))\n",
    "    \n",
    "    return X, y\n",
    "\n",
    "def preprocess(data_path):\n",
    "    X, y = load_dataset(data_path)\n",
    "    \n",
    "    X_train, X_test, y_train, y_test = train_test_split(X, y, test_size=0.3, random_state=1)\n",
    "    print('Training Sizes:', X_train.shape,'and', y_train.shape)\n",
    "    print('Testing Sizes:', X_test.shape, 'and', y_test.shape)\n",
    "    \n",
    "    return X_train, X_test, y_train, y_test"
   ]
  },
  {
   "cell_type": "code",
   "execution_count": 11,
   "metadata": {},
   "outputs": [
    {
     "name": "stdout",
     "output_type": "stream",
     "text": [
      "Training Sizes: (3348, 5) and (3348, 1)\n",
      "Testing Sizes: (1435, 5) and (1435, 1)\n"
     ]
    },
    {
     "name": "stderr",
     "output_type": "stream",
     "text": [
      "/opt/anaconda3/lib/python3.7/site-packages/ipykernel_launcher.py:4: SettingWithCopyWarning: \n",
      "A value is trying to be set on a copy of a slice from a DataFrame.\n",
      "Try using .loc[row_indexer,col_indexer] = value instead\n",
      "\n",
      "See the caveats in the documentation: https://pandas.pydata.org/pandas-docs/stable/user_guide/indexing.html#returning-a-view-versus-a-copy\n",
      "  after removing the cwd from sys.path.\n"
     ]
    }
   ],
   "source": [
    "X_train, X_test, y_train, y_test = preprocess(final_data)"
   ]
  },
  {
   "cell_type": "code",
   "execution_count": 12,
   "metadata": {},
   "outputs": [],
   "source": [
    "with open('/Users/pranav/nfl_betting_system/nn_ou_train_data.pkl', 'wb') as f:\n",
    "    pickle.dump((X_train, y_train), f)\n",
    "with open('/Users/pranav/nfl_betting_system/nn_ou_test_data.pkl', 'wb') as f:\n",
    "    pickle.dump((X_test, y_test), f)"
   ]
  },
  {
   "cell_type": "code",
   "execution_count": null,
   "metadata": {},
   "outputs": [],
   "source": []
  }
 ],
 "metadata": {
  "kernelspec": {
   "display_name": "Python 3",
   "language": "python",
   "name": "python3"
  },
  "language_info": {
   "codemirror_mode": {
    "name": "ipython",
    "version": 3
   },
   "file_extension": ".py",
   "mimetype": "text/x-python",
   "name": "python",
   "nbconvert_exporter": "python",
   "pygments_lexer": "ipython3",
   "version": "3.7.6"
  }
 },
 "nbformat": 4,
 "nbformat_minor": 4
}
